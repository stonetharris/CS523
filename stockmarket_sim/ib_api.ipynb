{
 "cells": [
  {
   "cell_type": "code",
   "execution_count": 27,
   "metadata": {},
   "outputs": [
    {
     "data": {
      "text/plain": [
       "<IB connected to 127.0.0.1:7497 clientId=2>"
      ]
     },
     "execution_count": 27,
     "metadata": {},
     "output_type": "execute_result"
    }
   ],
   "source": [
    "from ib_insync import *\n",
    "import nest_asyncio\n",
    "nest_asyncio.apply()\n",
    "\n",
    "ib = IB()\n",
    "ib.connect('127.0.0.1', 7497, clientId=2)"
   ]
  },
  {
   "cell_type": "code",
   "execution_count": 28,
   "metadata": {},
   "outputs": [],
   "source": [
    "ib.disconnect()"
   ]
  },
  {
   "cell_type": "code",
   "execution_count": 6,
   "metadata": {},
   "outputs": [
    {
     "name": "stdout",
     "output_type": "stream",
     "text": [
      "         date     open     high      low    close  volume  average  barCount\n",
      "0  2024-03-22  5301.25  5306.00  5287.75  5289.50    -1.0     -1.0        -1\n",
      "1  2024-03-25  5276.75  5288.75  5274.25  5280.75    -1.0     -1.0        -1\n",
      "2  2024-03-26  5290.00  5294.25  5263.00  5272.50    -1.0     -1.0        -1\n",
      "3  2024-03-27  5293.25  5314.00  5270.50  5308.25    -1.0     -1.0        -1\n",
      "4  2024-03-28  5309.75  5321.00  5302.00  5304.25    -1.0     -1.0        -1\n"
     ]
    }
   ],
   "source": [
    "# from ib_insync import *\n",
    "# import nest_asyncio\n",
    "# nest_asyncio.apply()\n",
    "\n",
    "# Initialize the IB class\n",
    "# ib = IB()\n",
    "\n",
    "# Connect to the Interactive Brokers TWS API\n",
    "# The default IP is '127.0.0.1', port is 7497 for paper trading, clientId can be any unique integer\n",
    "# ib.connect('127.0.0.1', 7497, clientId=1)\n",
    "\n",
    "# Test connection by fetching current market data for the S&P 500 futures (symbol ES)\n",
    "contract = Future('ES', '202406', 'CME')\n",
    "ib.qualifyContracts(contract)\n",
    "\n",
    "apple_contract = Stock('AAPL', 'NASDAQ', 'USD')\n",
    "\n",
    "# Fetch historical data for the contract\n",
    "historical_data = ib.reqHistoricalData(\n",
    "    contract,\n",
    "    endDateTime='',\n",
    "    durationStr='1 W',  # 1 week of historical data\n",
    "    barSizeSetting='1 day',  # 1 day intervals\n",
    "    whatToShow='MIDPOINT',\n",
    "    useRTH=True\n",
    ")\n",
    "\n",
    "# Convert to a pandas DataFrame and print it\n",
    "df = util.df(historical_data)\n",
    "print(df)\n",
    "\n",
    "# Disconnect from the API\n",
    "ib.disconnect()\n"
   ]
  },
  {
   "cell_type": "code",
   "execution_count": 25,
   "metadata": {},
   "outputs": [
    {
     "ename": "AttributeError",
     "evalue": "'NoneType' object has no attribute 'to_csv'",
     "output_type": "error",
     "traceback": [
      "\u001b[0;31m---------------------------------------------------------------------------\u001b[0m",
      "\u001b[0;31mAttributeError\u001b[0m                            Traceback (most recent call last)",
      "Cell \u001b[0;32mIn[25], line 27\u001b[0m\n\u001b[1;32m     25\u001b[0m allBars \u001b[38;5;241m=\u001b[39m [b \u001b[38;5;28;01mfor\u001b[39;00m bars \u001b[38;5;129;01min\u001b[39;00m \u001b[38;5;28mreversed\u001b[39m(barsList) \u001b[38;5;28;01mfor\u001b[39;00m b \u001b[38;5;129;01min\u001b[39;00m bars]\n\u001b[1;32m     26\u001b[0m df \u001b[38;5;241m=\u001b[39m util\u001b[38;5;241m.\u001b[39mdf(allBars)\n\u001b[0;32m---> 27\u001b[0m \u001b[43mdf\u001b[49m\u001b[38;5;241;43m.\u001b[39;49m\u001b[43mto_csv\u001b[49m(contract\u001b[38;5;241m.\u001b[39msymbol \u001b[38;5;241m+\u001b[39m \u001b[38;5;124m'\u001b[39m\u001b[38;5;124m.csv\u001b[39m\u001b[38;5;124m'\u001b[39m, index\u001b[38;5;241m=\u001b[39m\u001b[38;5;28;01mFalse\u001b[39;00m)\n",
      "\u001b[0;31mAttributeError\u001b[0m: 'NoneType' object has no attribute 'to_csv'"
     ]
    }
   ],
   "source": [
    "import datetime\n",
    "contract = Stock('TSLA', 'SMART', 'USD')\n",
    "# contract = Option('TSLA', 'SMART', 'USD')\n",
    "contract = Option(symbol='SPY', lastTradeDateOrContractMonth='20240721', right='CALL', exchange='SMART', includeExpired=False)\n",
    "\n",
    "dt = ''\n",
    "barsList = []\n",
    "while True:\n",
    "    bars = ib.reqHistoricalData(\n",
    "        contract,\n",
    "        endDateTime=dt,\n",
    "        durationStr='10 D',\n",
    "        barSizeSetting='1 hour',\n",
    "        whatToShow='MIDPOINT',\n",
    "        useRTH=True,\n",
    "        formatDate=1)\n",
    "    if not bars:\n",
    "        break\n",
    "    barsList.append(bars)\n",
    "    dt = bars[0].date\n",
    "    print(dt)\n",
    "    break\n",
    "\n",
    "# save to CSV file\n",
    "allBars = [b for bars in reversed(barsList) for b in bars]\n",
    "df = util.df(allBars)\n",
    "df.to_csv(contract.symbol + '.csv', index=False)\n"
   ]
  },
  {
   "cell_type": "code",
   "execution_count": 5,
   "metadata": {},
   "outputs": [
    {
     "data": {
      "text/html": [
       "<div>\n",
       "<style scoped>\n",
       "    .dataframe tbody tr th:only-of-type {\n",
       "        vertical-align: middle;\n",
       "    }\n",
       "\n",
       "    .dataframe tbody tr th {\n",
       "        vertical-align: top;\n",
       "    }\n",
       "\n",
       "    .dataframe thead th {\n",
       "        text-align: right;\n",
       "    }\n",
       "</style>\n",
       "<table border=\"1\" class=\"dataframe\">\n",
       "  <thead>\n",
       "    <tr style=\"text-align: right;\">\n",
       "      <th></th>\n",
       "      <th>date</th>\n",
       "      <th>open</th>\n",
       "      <th>high</th>\n",
       "      <th>low</th>\n",
       "      <th>close</th>\n",
       "      <th>volume</th>\n",
       "      <th>average</th>\n",
       "      <th>barCount</th>\n",
       "    </tr>\n",
       "  </thead>\n",
       "  <tbody>\n",
       "    <tr>\n",
       "      <th>0</th>\n",
       "      <td>2024-02-01 09:30:00-05:00</td>\n",
       "      <td>188.34</td>\n",
       "      <td>188.85</td>\n",
       "      <td>188.04</td>\n",
       "      <td>188.51</td>\n",
       "      <td>-1.0</td>\n",
       "      <td>-1.0</td>\n",
       "      <td>-1</td>\n",
       "    </tr>\n",
       "    <tr>\n",
       "      <th>1</th>\n",
       "      <td>2024-02-01 09:31:00-05:00</td>\n",
       "      <td>188.51</td>\n",
       "      <td>188.76</td>\n",
       "      <td>187.77</td>\n",
       "      <td>188.39</td>\n",
       "      <td>-1.0</td>\n",
       "      <td>-1.0</td>\n",
       "      <td>-1</td>\n",
       "    </tr>\n",
       "    <tr>\n",
       "      <th>2</th>\n",
       "      <td>2024-02-01 09:32:00-05:00</td>\n",
       "      <td>188.39</td>\n",
       "      <td>189.52</td>\n",
       "      <td>188.30</td>\n",
       "      <td>189.40</td>\n",
       "      <td>-1.0</td>\n",
       "      <td>-1.0</td>\n",
       "      <td>-1</td>\n",
       "    </tr>\n",
       "    <tr>\n",
       "      <th>3</th>\n",
       "      <td>2024-02-01 09:33:00-05:00</td>\n",
       "      <td>189.40</td>\n",
       "      <td>189.43</td>\n",
       "      <td>188.65</td>\n",
       "      <td>188.67</td>\n",
       "      <td>-1.0</td>\n",
       "      <td>-1.0</td>\n",
       "      <td>-1</td>\n",
       "    </tr>\n",
       "    <tr>\n",
       "      <th>4</th>\n",
       "      <td>2024-02-01 09:34:00-05:00</td>\n",
       "      <td>188.67</td>\n",
       "      <td>189.26</td>\n",
       "      <td>188.62</td>\n",
       "      <td>188.72</td>\n",
       "      <td>-1.0</td>\n",
       "      <td>-1.0</td>\n",
       "      <td>-1</td>\n",
       "    </tr>\n",
       "  </tbody>\n",
       "</table>\n",
       "</div>"
      ],
      "text/plain": [
       "                       date    open    high     low   close  volume  average  \\\n",
       "0 2024-02-01 09:30:00-05:00  188.34  188.85  188.04  188.51    -1.0     -1.0   \n",
       "1 2024-02-01 09:31:00-05:00  188.51  188.76  187.77  188.39    -1.0     -1.0   \n",
       "2 2024-02-01 09:32:00-05:00  188.39  189.52  188.30  189.40    -1.0     -1.0   \n",
       "3 2024-02-01 09:33:00-05:00  189.40  189.43  188.65  188.67    -1.0     -1.0   \n",
       "4 2024-02-01 09:34:00-05:00  188.67  189.26  188.62  188.72    -1.0     -1.0   \n",
       "\n",
       "   barCount  \n",
       "0        -1  \n",
       "1        -1  \n",
       "2        -1  \n",
       "3        -1  \n",
       "4        -1  "
      ]
     },
     "execution_count": 5,
     "metadata": {},
     "output_type": "execute_result"
    }
   ],
   "source": [
    "allBars = [b for bars in reversed(barsList) for b in bars]\n",
    "df = util.df(allBars)\n",
    "df.head()"
   ]
  },
  {
   "cell_type": "code",
   "execution_count": 12,
   "metadata": {},
   "outputs": [
    {
     "name": "stdout",
     "output_type": "stream",
     "text": [
      "[]\n",
      "[]\n"
     ]
    }
   ],
   "source": [
    "option = Option('EOE', '20241215', 490, 'P', 'FTA', multiplier=100)\n",
    "\n",
    "calc = ib.calculateImpliedVolatility(\n",
    "    option, optionPrice=6.1, underPrice=525)\n",
    "print(calc)\n",
    "\n",
    "calc = ib.calculateOptionPrice(\n",
    "    option, volatility=0.14, underPrice=525)\n",
    "print(calc)"
   ]
  }
 ],
 "metadata": {
  "kernelspec": {
   "display_name": "Python 3",
   "language": "python",
   "name": "python3"
  },
  "language_info": {
   "codemirror_mode": {
    "name": "ipython",
    "version": 3
   },
   "file_extension": ".py",
   "mimetype": "text/x-python",
   "name": "python",
   "nbconvert_exporter": "python",
   "pygments_lexer": "ipython3",
   "version": "3.10.7"
  }
 },
 "nbformat": 4,
 "nbformat_minor": 2
}
